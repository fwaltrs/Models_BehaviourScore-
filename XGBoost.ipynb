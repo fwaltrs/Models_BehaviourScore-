{
  "cells": [
    {
      "cell_type": "code",
      "execution_count": null,
      "metadata": {
        "id": "7j0xtRQAzAav"
      },
      "outputs": [],
      "source": [
        "import pandas as pd\n",
        "import numpy as np\n",
        "import seaborn as sns\n",
        "import math\n",
        "import numpy as np\n",
        "import pandas as pd\n",
        "import datetime as dt\n",
        "import seaborn as sns\n",
        "import lightgbm as lgb\n",
        "import matplotlib.pyplot as plt\n",
        "from sklearn import metrics\n",
        "from datetime import datetime\n",
        "from sklearn.model_selection import GridSearchCV\n",
        "from sklearn.ensemble import RandomForestRegressor\n",
        "from sklearn.model_selection import cross_val_score\n",
        "from sklearn.model_selection import train_test_split\n",
        "from sklearn.preprocessing import StandardScaler, MinMaxScaler\n",
        "from sklearn.metrics import accuracy_score, confusion_matrix, precision_score, recall_score, f1_score, roc_auc_score, roc_curve"
      ]
    },
    {
      "cell_type": "code",
      "source": [
        "from google.colab import drive\n",
        "drive.mount('/content/drive')"
      ],
      "metadata": {
        "colab": {
          "base_uri": "https://localhost:8080/"
        },
        "id": "Xhk3532Y3Yxn",
        "outputId": "51fcc731-a1c0-41a8-f947-97f5f3020ca7"
      },
      "execution_count": null,
      "outputs": [
        {
          "output_type": "stream",
          "name": "stdout",
          "text": [
            "Drive already mounted at /content/drive; to attempt to forcibly remount, call drive.mount(\"/content/drive\", force_remount=True).\n"
          ]
        }
      ]
    },
    {
      "cell_type": "code",
      "execution_count": null,
      "metadata": {
        "id": "unPmBxjAzZkr"
      },
      "outputs": [],
      "source": [
        "caminho = r\"/content/drive/MyDrive/8ºSEMESTRE/TG/LightGBM/base.parquet\"\n",
        "base = pd.read_parquet(caminho)"
      ]
    },
    {
      "cell_type": "code",
      "execution_count": null,
      "metadata": {
        "id": "XtiNO9W_za_j"
      },
      "outputs": [],
      "source": [
        "base['var_325'] = base['var_325'].astype('category')\n",
        "base['var_1'] = base['var_1'].astype('category')\n",
        "base['var_339'] = base['var_339'].astype('category')\n",
        "base['CAT_var_275'] = base['CAT_var_275'].astype('category')\n",
        "base['var_365'] = base['var_365'].astype('category')\n",
        "# base['var_resposta'] = base['var_resposta'].astype('category')"
      ]
    },
    {
      "cell_type": "code",
      "execution_count": null,
      "metadata": {
        "id": "CWjtDI8Czqbb"
      },
      "outputs": [],
      "source": [
        "base[\"var_resposta\"] = 1-base[\"var_resposta\"]\n",
        "\n",
        "base[\"var_resposta\"]= base[\"var_resposta\"].astype('category')"
      ]
    },
    {
      "cell_type": "code",
      "execution_count": null,
      "metadata": {
        "colab": {
          "base_uri": "https://localhost:8080/",
          "height": 458
        },
        "id": "1BOvdYPXzxCn",
        "outputId": "b9204aaf-6335-48cf-b22e-5ffdd8e3852a"
      },
      "outputs": [
        {
          "output_type": "execute_result",
          "data": {
            "text/plain": [
              "0         1\n",
              "1         1\n",
              "2         1\n",
              "3         1\n",
              "4         1\n",
              "         ..\n",
              "411466    1\n",
              "411467    1\n",
              "411468    0\n",
              "411469    1\n",
              "411470    1\n",
              "Name: var_resposta, Length: 411471, dtype: category\n",
              "Categories (2, int32): [0, 1]"
            ],
            "text/html": [
              "<div>\n",
              "<style scoped>\n",
              "    .dataframe tbody tr th:only-of-type {\n",
              "        vertical-align: middle;\n",
              "    }\n",
              "\n",
              "    .dataframe tbody tr th {\n",
              "        vertical-align: top;\n",
              "    }\n",
              "\n",
              "    .dataframe thead th {\n",
              "        text-align: right;\n",
              "    }\n",
              "</style>\n",
              "<table border=\"1\" class=\"dataframe\">\n",
              "  <thead>\n",
              "    <tr style=\"text-align: right;\">\n",
              "      <th></th>\n",
              "      <th>var_resposta</th>\n",
              "    </tr>\n",
              "  </thead>\n",
              "  <tbody>\n",
              "    <tr>\n",
              "      <th>0</th>\n",
              "      <td>1</td>\n",
              "    </tr>\n",
              "    <tr>\n",
              "      <th>1</th>\n",
              "      <td>1</td>\n",
              "    </tr>\n",
              "    <tr>\n",
              "      <th>2</th>\n",
              "      <td>1</td>\n",
              "    </tr>\n",
              "    <tr>\n",
              "      <th>3</th>\n",
              "      <td>1</td>\n",
              "    </tr>\n",
              "    <tr>\n",
              "      <th>4</th>\n",
              "      <td>1</td>\n",
              "    </tr>\n",
              "    <tr>\n",
              "      <th>...</th>\n",
              "      <td>...</td>\n",
              "    </tr>\n",
              "    <tr>\n",
              "      <th>411466</th>\n",
              "      <td>1</td>\n",
              "    </tr>\n",
              "    <tr>\n",
              "      <th>411467</th>\n",
              "      <td>1</td>\n",
              "    </tr>\n",
              "    <tr>\n",
              "      <th>411468</th>\n",
              "      <td>0</td>\n",
              "    </tr>\n",
              "    <tr>\n",
              "      <th>411469</th>\n",
              "      <td>1</td>\n",
              "    </tr>\n",
              "    <tr>\n",
              "      <th>411470</th>\n",
              "      <td>1</td>\n",
              "    </tr>\n",
              "  </tbody>\n",
              "</table>\n",
              "<p>411471 rows × 1 columns</p>\n",
              "</div><br><label><b>dtype:</b> category</label>"
            ]
          },
          "metadata": {},
          "execution_count": 36
        }
      ],
      "source": [
        "base[\"var_resposta\"]"
      ]
    },
    {
      "cell_type": "code",
      "execution_count": null,
      "metadata": {
        "colab": {
          "base_uri": "https://localhost:8080/"
        },
        "id": "5IpEbppozzwU",
        "outputId": "3ac9ea76-5942-4c02-dc64-b8fc425d154f"
      },
      "outputs": [
        {
          "output_type": "stream",
          "name": "stdout",
          "text": [
            "split\n",
            "Treinamento    263227\n",
            "Validacao       65774\n",
            "Name: count, dtype: int64\n"
          ]
        },
        {
          "output_type": "stream",
          "name": "stderr",
          "text": [
            "<ipython-input-37-edcd998e3244>:7: SettingWithCopyWarning: \n",
            "A value is trying to be set on a copy of a slice from a DataFrame.\n",
            "Try using .loc[row_indexer,col_indexer] = value instead\n",
            "\n",
            "See the caveats in the documentation: https://pandas.pydata.org/pandas-docs/stable/user_guide/indexing.html#returning-a-view-versus-a-copy\n",
            "  treino['split'] = split\n"
          ]
        }
      ],
      "source": [
        "treino = base[base['split'] == \"Treinamento\"]\n",
        "import random\n",
        "np.random.seed(290)\n",
        "split = np.random.choice(['Treinamento', 'Validacao'], size = len(treino), p = [0.8, 0.2])\n",
        "\n",
        "# Adicionando a coluna 'split' na base de dados\n",
        "treino['split'] = split\n",
        "print(treino['split'].value_counts())"
      ]
    },
    {
      "cell_type": "code",
      "execution_count": null,
      "metadata": {
        "colab": {
          "base_uri": "https://localhost:8080/"
        },
        "id": "-LlcxRhTz1XH",
        "outputId": "e110867a-c76f-4c40-fae7-05791669c680"
      },
      "outputs": [
        {
          "output_type": "stream",
          "name": "stdout",
          "text": [
            "(263227, 213)\n"
          ]
        }
      ],
      "source": [
        "treinof = treino[treino['split'] == \"Treinamento\"]\n",
        "treinof = treinof.drop(columns = [\"id\",\"amostra\",\"foto\",\"split\"])\n",
        "\n",
        "X_treino = treinof.drop([\"var_resposta\"],axis=1)\n",
        "Y_treino = treinof[\"var_resposta\"]\n",
        "print(X_treino.shape)"
      ]
    },
    {
      "cell_type": "code",
      "execution_count": null,
      "metadata": {
        "colab": {
          "base_uri": "https://localhost:8080/"
        },
        "id": "TP_vo5sRz2KC",
        "outputId": "cbff1dd7-2f23-4fe9-b1ec-bc020e5a7567"
      },
      "outputs": [
        {
          "output_type": "stream",
          "name": "stdout",
          "text": [
            "(65774, 213)\n"
          ]
        }
      ],
      "source": [
        "valid = treino[treino['split'] == \"Validacao\"]\n",
        "valid = valid.drop(columns = [\"id\",\"amostra\",\"foto\",\"split\"])\n",
        "\n",
        "\n",
        "X_valid = valid.drop([\"var_resposta\"],axis=1)\n",
        "Y_valid = valid[\"var_resposta\"]\n",
        "print(X_valid.shape)"
      ]
    },
    {
      "cell_type": "code",
      "execution_count": null,
      "metadata": {
        "colab": {
          "base_uri": "https://localhost:8080/"
        },
        "id": "sMeWoz2Dz3dN",
        "outputId": "a7c7324c-2dc5-40f8-f59a-91aca5e4a1f2"
      },
      "outputs": [
        {
          "output_type": "stream",
          "name": "stdout",
          "text": [
            "(82470, 213)\n"
          ]
        }
      ],
      "source": [
        "teste = base[base['split'] == \"Teste\"]\n",
        "teste = teste.drop(columns = [\"id\",\"amostra\",\"foto\",\"split\"])\n",
        "X_teste = teste.drop([\"var_resposta\"],axis=1)\n",
        "Y_teste = teste[\"var_resposta\"]\n",
        "print(X_teste.shape)"
      ]
    },
    {
      "cell_type": "markdown",
      "source": [
        "Otimização Baeysiana"
      ],
      "metadata": {
        "id": "aWgiBQJFL07X"
      }
    },
    {
      "cell_type": "code",
      "execution_count": null,
      "metadata": {
        "colab": {
          "base_uri": "https://localhost:8080/"
        },
        "id": "Ul1DsHp6z46r",
        "outputId": "e967d854-a956-42f4-bb2d-d5ed7a4b3b3f"
      },
      "outputs": [
        {
          "output_type": "stream",
          "name": "stdout",
          "text": [
            "Collecting optuna\n",
            "  Downloading optuna-4.0.0-py3-none-any.whl.metadata (16 kB)\n",
            "Collecting alembic>=1.5.0 (from optuna)\n",
            "  Downloading alembic-1.13.2-py3-none-any.whl.metadata (7.4 kB)\n",
            "Collecting colorlog (from optuna)\n",
            "  Downloading colorlog-6.8.2-py3-none-any.whl.metadata (10 kB)\n",
            "Requirement already satisfied: numpy in /usr/local/lib/python3.10/dist-packages (from optuna) (1.26.4)\n",
            "Requirement already satisfied: packaging>=20.0 in /usr/local/lib/python3.10/dist-packages (from optuna) (24.1)\n",
            "Requirement already satisfied: sqlalchemy>=1.3.0 in /usr/local/lib/python3.10/dist-packages (from optuna) (2.0.32)\n",
            "Requirement already satisfied: tqdm in /usr/local/lib/python3.10/dist-packages (from optuna) (4.66.5)\n",
            "Requirement already satisfied: PyYAML in /usr/local/lib/python3.10/dist-packages (from optuna) (6.0.2)\n",
            "Collecting Mako (from alembic>=1.5.0->optuna)\n",
            "  Downloading Mako-1.3.5-py3-none-any.whl.metadata (2.9 kB)\n",
            "Requirement already satisfied: typing-extensions>=4 in /usr/local/lib/python3.10/dist-packages (from alembic>=1.5.0->optuna) (4.12.2)\n",
            "Requirement already satisfied: greenlet!=0.4.17 in /usr/local/lib/python3.10/dist-packages (from sqlalchemy>=1.3.0->optuna) (3.0.3)\n",
            "Requirement already satisfied: MarkupSafe>=0.9.2 in /usr/local/lib/python3.10/dist-packages (from Mako->alembic>=1.5.0->optuna) (2.1.5)\n",
            "Downloading optuna-4.0.0-py3-none-any.whl (362 kB)\n",
            "\u001b[2K   \u001b[90m━━━━━━━━━━━━━━━━━━━━━━━━━━━━━━━━━━━━━━━━\u001b[0m \u001b[32m362.8/362.8 kB\u001b[0m \u001b[31m7.1 MB/s\u001b[0m eta \u001b[36m0:00:00\u001b[0m\n",
            "\u001b[?25hDownloading alembic-1.13.2-py3-none-any.whl (232 kB)\n",
            "\u001b[2K   \u001b[90m━━━━━━━━━━━━━━━━━━━━━━━━━━━━━━━━━━━━━━━━\u001b[0m \u001b[32m233.0/233.0 kB\u001b[0m \u001b[31m12.5 MB/s\u001b[0m eta \u001b[36m0:00:00\u001b[0m\n",
            "\u001b[?25hDownloading colorlog-6.8.2-py3-none-any.whl (11 kB)\n",
            "Downloading Mako-1.3.5-py3-none-any.whl (78 kB)\n",
            "\u001b[2K   \u001b[90m━━━━━━━━━━━━━━━━━━━━━━━━━━━━━━━━━━━━━━━━\u001b[0m \u001b[32m78.6/78.6 kB\u001b[0m \u001b[31m5.8 MB/s\u001b[0m eta \u001b[36m0:00:00\u001b[0m\n",
            "\u001b[?25hInstalling collected packages: Mako, colorlog, alembic, optuna\n",
            "Successfully installed Mako-1.3.5 alembic-1.13.2 colorlog-6.8.2 optuna-4.0.0\n"
          ]
        }
      ],
      "source": [
        "# !pip install bayes_opt\n",
        "!pip install optuna"
      ]
    },
    {
      "cell_type": "code",
      "execution_count": null,
      "metadata": {
        "id": "OpCYA10Oz9Jf"
      },
      "outputs": [],
      "source": [
        "from xgboost import XGBClassifier\n",
        "import optuna\n",
        "from sklearn import metrics\n",
        "\n",
        "def objective(trial):\n",
        "    params = {\n",
        "        'objective': 'binary:logistic',\n",
        "        'eval_metric': 'logloss',\n",
        "        'learning_rate': trial.suggest_float('learning_rate', 0.01, 1.0),\n",
        "        'n_estimators': trial.suggest_int('n_estimators', 100, 1000),\n",
        "        'max_depth': trial.suggest_int('max_depth', 3, 10),\n",
        "        'subsample': 1.0,  # Ajustado para datasets grandes\n",
        "        'colsample_bytree': trial.suggest_float('colsample_bytree', 0.05, 1.0),\n",
        "        'gamma': trial.suggest_float('gamma', 0, 5),\n",
        "        'min_child_weight': trial.suggest_int('min_child_weight', 1, 50)\n",
        "    }\n",
        "    class_xgb = XGBClassifier(**params,enable_categorical=True)\n",
        "    class_xgb.fit(X_treino, Y_treino)\n",
        "    predicoes = class_xgb.predict_proba(X_valid)[:, 1]\n",
        "    auc = metrics.roc_auc_score(Y_valid, predicoes)\n",
        "    return auc"
      ]
    },
    {
      "cell_type": "code",
      "execution_count": null,
      "metadata": {
        "colab": {
          "base_uri": "https://localhost:8080/"
        },
        "id": "pE9_i3wF0AIJ",
        "outputId": "bb2d3e79-ab1c-42fa-fdb6-1d2e512dff23"
      },
      "outputs": [
        {
          "output_type": "stream",
          "name": "stderr",
          "text": [
            "[I 2024-09-10 13:34:04,675] A new study created in memory with name: no-name-08fd53ba-21d8-4427-a329-085970eef82e\n",
            "[I 2024-09-10 13:36:17,970] Trial 0 finished with value: 0.815837973756939 and parameters: {'learning_rate': 0.10242950441585301, 'n_estimators': 834, 'max_depth': 4, 'colsample_bytree': 0.5379808560329132, 'gamma': 1.6498384136679611, 'min_child_weight': 39}. Best is trial 0 with value: 0.815837973756939.\n",
            "[I 2024-09-10 13:37:17,896] Trial 1 finished with value: 0.7697420418737699 and parameters: {'learning_rate': 0.6218244140692816, 'n_estimators': 356, 'max_depth': 7, 'colsample_bytree': 0.17027093851018366, 'gamma': 2.5725996533154865, 'min_child_weight': 8}. Best is trial 0 with value: 0.815837973756939.\n",
            "[I 2024-09-10 13:40:59,972] Trial 2 finished with value: 0.8181209065192219 and parameters: {'learning_rate': 0.01807591176318983, 'n_estimators': 610, 'max_depth': 8, 'colsample_bytree': 0.41866547374554636, 'gamma': 1.5273505997688512, 'min_child_weight': 32}. Best is trial 2 with value: 0.8181209065192219.\n",
            "[I 2024-09-10 13:42:57,298] Trial 3 finished with value: 0.7280944038566671 and parameters: {'learning_rate': 0.8394774700372256, 'n_estimators': 792, 'max_depth': 6, 'colsample_bytree': 0.3112462055820093, 'gamma': 1.9396888032542376, 'min_child_weight': 6}. Best is trial 2 with value: 0.8181209065192219.\n",
            "[I 2024-09-10 13:43:58,356] Trial 4 finished with value: 0.7698545116149857 and parameters: {'learning_rate': 0.7876741302940429, 'n_estimators': 312, 'max_depth': 4, 'colsample_bytree': 0.6393600640559312, 'gamma': 1.8227786374768828, 'min_child_weight': 30}. Best is trial 2 with value: 0.8181209065192219.\n",
            "[I 2024-09-10 13:45:14,496] Trial 5 finished with value: 0.8148547737652404 and parameters: {'learning_rate': 0.0596562575065108, 'n_estimators': 311, 'max_depth': 4, 'colsample_bytree': 0.7553012713182694, 'gamma': 1.027380225990494, 'min_child_weight': 47}. Best is trial 2 with value: 0.8181209065192219.\n",
            "[I 2024-09-10 13:46:26,572] Trial 6 finished with value: 0.7887054087423105 and parameters: {'learning_rate': 0.4181430340803994, 'n_estimators': 414, 'max_depth': 6, 'colsample_bytree': 0.5244733624033948, 'gamma': 1.5714813763550373, 'min_child_weight': 26}. Best is trial 2 with value: 0.8181209065192219.\n",
            "[I 2024-09-10 13:49:34,618] Trial 7 finished with value: 0.8166013111517808 and parameters: {'learning_rate': 0.03861212867973472, 'n_estimators': 957, 'max_depth': 4, 'colsample_bytree': 0.7778150107935384, 'gamma': 1.0704366486068662, 'min_child_weight': 7}. Best is trial 2 with value: 0.8181209065192219.\n",
            "[I 2024-09-10 13:54:10,900] Trial 8 finished with value: 0.8183600890437032 and parameters: {'learning_rate': 0.015605121823552684, 'n_estimators': 827, 'max_depth': 10, 'colsample_bytree': 0.24819761853105432, 'gamma': 3.4546190502741627, 'min_child_weight': 34}. Best is trial 8 with value: 0.8183600890437032.\n",
            "[I 2024-09-10 13:54:55,407] Trial 9 finished with value: 0.751504096188754 and parameters: {'learning_rate': 0.6107464021468934, 'n_estimators': 114, 'max_depth': 8, 'colsample_bytree': 0.6003452168434067, 'gamma': 1.0034710421473214, 'min_child_weight': 20}. Best is trial 8 with value: 0.8183600890437032.\n",
            "[I 2024-09-10 13:56:24,948] Trial 10 finished with value: 0.8069012920548628 and parameters: {'learning_rate': 0.3038845827221452, 'n_estimators': 658, 'max_depth': 10, 'colsample_bytree': 0.9782155010561737, 'gamma': 4.105501121223794, 'min_child_weight': 48}. Best is trial 8 with value: 0.8183600890437032.\n",
            "[I 2024-09-10 13:57:52,625] Trial 11 finished with value: 0.8085416836199601 and parameters: {'learning_rate': 0.24788259635435245, 'n_estimators': 614, 'max_depth': 10, 'colsample_bytree': 0.31681048575862814, 'gamma': 3.3986591239909596, 'min_child_weight': 36}. Best is trial 8 with value: 0.8183600890437032.\n",
            "[I 2024-09-10 13:59:33,587] Trial 12 finished with value: 0.8075247067512611 and parameters: {'learning_rate': 0.2388889573238987, 'n_estimators': 753, 'max_depth': 9, 'colsample_bytree': 0.14599880052212139, 'gamma': 4.9610054939359065, 'min_child_weight': 19}. Best is trial 8 with value: 0.8183600890437032.\n",
            "[I 2024-09-10 14:03:58,030] Trial 13 finished with value: 0.7826517267418566 and parameters: {'learning_rate': 0.18637762314341122, 'n_estimators': 992, 'max_depth': 8, 'colsample_bytree': 0.355641023459583, 'gamma': 0.024036748508498906, 'min_child_weight': 35}. Best is trial 8 with value: 0.8183600890437032.\n",
            "[I 2024-09-10 14:05:14,770] Trial 14 finished with value: 0.7972787074099136 and parameters: {'learning_rate': 0.4131614079436692, 'n_estimators': 544, 'max_depth': 9, 'colsample_bytree': 0.42860090611495083, 'gamma': 3.0508271502947037, 'min_child_weight': 42}. Best is trial 8 with value: 0.8183600890437032.\n",
            "[I 2024-09-10 14:08:20,860] Trial 15 finished with value: 0.8051693731859977 and parameters: {'learning_rate': 0.012242875428019984, 'n_estimators': 489, 'max_depth': 8, 'colsample_bytree': 0.05472215807726205, 'gamma': 3.834410232013354, 'min_child_weight': 30}. Best is trial 8 with value: 0.8183600890437032.\n",
            "[I 2024-09-10 14:10:07,404] Trial 16 finished with value: 0.8081017263140418 and parameters: {'learning_rate': 0.15425347242058957, 'n_estimators': 686, 'max_depth': 10, 'colsample_bytree': 0.20629098722777753, 'gamma': 2.5556809436995307, 'min_child_weight': 17}. Best is trial 8 with value: 0.8183600890437032.\n",
            "[I 2024-09-10 14:11:55,960] Trial 17 finished with value: 0.7483054398180387 and parameters: {'learning_rate': 0.993339376077292, 'n_estimators': 867, 'max_depth': 7, 'colsample_bytree': 0.4319929470140421, 'gamma': 4.522706043308078, 'min_child_weight': 30}. Best is trial 8 with value: 0.8183600890437032.\n",
            "[I 2024-09-10 14:16:20,486] Trial 18 finished with value: 0.7620637724186256 and parameters: {'learning_rate': 0.35080040655800016, 'n_estimators': 887, 'max_depth': 9, 'colsample_bytree': 0.24615041413086625, 'gamma': 0.018915520049827883, 'min_child_weight': 43}. Best is trial 8 with value: 0.8183600890437032.\n",
            "[I 2024-09-10 14:18:00,201] Trial 19 finished with value: 0.775423372661333 and parameters: {'learning_rate': 0.4841417009890429, 'n_estimators': 724, 'max_depth': 9, 'colsample_bytree': 0.06351712770037843, 'gamma': 3.0014527138853953, 'min_child_weight': 13}. Best is trial 8 with value: 0.8183600890437032.\n",
            "[I 2024-09-10 14:19:25,386] Trial 20 finished with value: 0.8151496950773824 and parameters: {'learning_rate': 0.12098382265866742, 'n_estimators': 590, 'max_depth': 5, 'colsample_bytree': 0.4277006877223941, 'gamma': 3.614795818628437, 'min_child_weight': 24}. Best is trial 8 with value: 0.8183600890437032.\n",
            "[I 2024-09-10 14:22:06,424] Trial 21 finished with value: 0.8132491353137693 and parameters: {'learning_rate': 0.02631194039719703, 'n_estimators': 927, 'max_depth': 3, 'colsample_bytree': 0.8289940348275975, 'gamma': 0.894636596417886, 'min_child_weight': 2}. Best is trial 8 with value: 0.8183600890437032.\n",
            "[I 2024-09-10 14:24:19,596] Trial 22 finished with value: 0.8136505415132222 and parameters: {'learning_rate': 0.17702596166123724, 'n_estimators': 990, 'max_depth': 5, 'colsample_bytree': 0.7027530968843625, 'gamma': 2.1938459072825145, 'min_child_weight': 34}. Best is trial 8 with value: 0.8183600890437032.\n",
            "[I 2024-09-10 14:26:32,088] Trial 23 finished with value: 0.8156307703776766 and parameters: {'learning_rate': 0.10764348885849481, 'n_estimators': 807, 'max_depth': 3, 'colsample_bytree': 0.9220295673129615, 'gamma': 1.2229235851194018, 'min_child_weight': 25}. Best is trial 8 with value: 0.8183600890437032.\n",
            "[I 2024-09-10 14:31:12,168] Trial 24 finished with value: 0.8168738677703193 and parameters: {'learning_rate': 0.02618975316680355, 'n_estimators': 945, 'max_depth': 7, 'colsample_bytree': 0.8193101713855813, 'gamma': 0.5492402055728483, 'min_child_weight': 12}. Best is trial 8 with value: 0.8183600890437032.\n",
            "[I 2024-09-10 14:33:51,372] Trial 25 finished with value: 0.785742987981321 and parameters: {'learning_rate': 0.2475907105949527, 'n_estimators': 875, 'max_depth': 7, 'colsample_bytree': 0.5107604296114249, 'gamma': 0.5666895054328427, 'min_child_weight': 12}. Best is trial 8 with value: 0.8183600890437032.\n",
            "[I 2024-09-10 14:35:47,373] Trial 26 finished with value: 0.8167004207875685 and parameters: {'learning_rate': 0.09874542313418971, 'n_estimators': 756, 'max_depth': 8, 'colsample_bytree': 0.26553157234492913, 'gamma': 3.0924725716740418, 'min_child_weight': 22}. Best is trial 8 with value: 0.8183600890437032.\n",
            "[I 2024-09-10 14:36:39,619] Trial 27 finished with value: 0.8003069774931263 and parameters: {'learning_rate': 0.010028813152087184, 'n_estimators': 131, 'max_depth': 6, 'colsample_bytree': 0.8729838058538838, 'gamma': 0.49466152072540026, 'min_child_weight': 28}. Best is trial 8 with value: 0.8183600890437032.\n",
            "[I 2024-09-10 14:38:44,140] Trial 28 finished with value: 0.7774958228905597 and parameters: {'learning_rate': 0.30719799100999723, 'n_estimators': 509, 'max_depth': 7, 'colsample_bytree': 0.35206500998718104, 'gamma': 0.5635567823842451, 'min_child_weight': 15}. Best is trial 8 with value: 0.8183600890437032.\n",
            "[I 2024-09-10 14:40:53,503] Trial 29 finished with value: 0.815798858299231 and parameters: {'learning_rate': 0.08906432248659303, 'n_estimators': 825, 'max_depth': 8, 'colsample_bytree': 0.5965605854378196, 'gamma': 2.337037547619279, 'min_child_weight': 35}. Best is trial 8 with value: 0.8183600890437032.\n"
          ]
        }
      ],
      "source": [
        "# Criando o estudo e otimizando\n",
        "study = optuna.create_study(direction='maximize')\n",
        "study.optimize(objective, n_trials=30)"
      ]
    },
    {
      "cell_type": "code",
      "source": [
        "print('Melhores hiperparâmetros:', study.best_params)\n",
        "print('Melhor AUC:', study.best_value)\n",
        "# Melhores hiperparâmetros: {'learning_rate': 0.015605121823552684, 'n_estimators': 827, 'max_depth': 10, 'colsample_bytree': 0.24819761853105432, 'gamma': 3.4546190502741627, 'min_child_weight': 34}\n",
        "# Melhor AUC: 0.8183600890437032"
      ],
      "metadata": {
        "colab": {
          "base_uri": "https://localhost:8080/"
        },
        "id": "i15I21yB3rxw",
        "outputId": "c987df09-a92c-4577-aede-739de830ac38"
      },
      "execution_count": null,
      "outputs": [
        {
          "output_type": "stream",
          "name": "stdout",
          "text": [
            "Melhores hiperparâmetros: {'learning_rate': 0.015605121823552684, 'n_estimators': 827, 'max_depth': 10, 'colsample_bytree': 0.24819761853105432, 'gamma': 3.4546190502741627, 'min_child_weight': 34}\n",
            "Melhor AUC: 0.8183600890437032\n"
          ]
        }
      ]
    },
    {
      "cell_type": "code",
      "execution_count": null,
      "metadata": {
        "id": "MwHhxHD7WKxS",
        "colab": {
          "base_uri": "https://localhost:8080/"
        },
        "outputId": "701f9ec9-580c-4528-81ba-7e70dea0e5d2"
      },
      "outputs": [
        {
          "output_type": "stream",
          "name": "stdout",
          "text": [
            "Collecting bayesian-optimization\n",
            "  Downloading bayesian_optimization-1.5.1-py3-none-any.whl.metadata (16 kB)\n",
            "Collecting colorama<0.5.0,>=0.4.6 (from bayesian-optimization)\n",
            "  Downloading colorama-0.4.6-py2.py3-none-any.whl.metadata (17 kB)\n",
            "Requirement already satisfied: numpy>=1.25 in /usr/local/lib/python3.10/dist-packages (from bayesian-optimization) (1.26.4)\n",
            "Requirement already satisfied: scikit-learn<2.0.0,>=1.0.0 in /usr/local/lib/python3.10/dist-packages (from bayesian-optimization) (1.3.2)\n",
            "Requirement already satisfied: scipy<2.0.0,>=1.0.0 in /usr/local/lib/python3.10/dist-packages (from bayesian-optimization) (1.13.1)\n",
            "Requirement already satisfied: joblib>=1.1.1 in /usr/local/lib/python3.10/dist-packages (from scikit-learn<2.0.0,>=1.0.0->bayesian-optimization) (1.4.2)\n",
            "Requirement already satisfied: threadpoolctl>=2.0.0 in /usr/local/lib/python3.10/dist-packages (from scikit-learn<2.0.0,>=1.0.0->bayesian-optimization) (3.5.0)\n",
            "Downloading bayesian_optimization-1.5.1-py3-none-any.whl (28 kB)\n",
            "Downloading colorama-0.4.6-py2.py3-none-any.whl (25 kB)\n",
            "Installing collected packages: colorama, bayesian-optimization\n",
            "Successfully installed bayesian-optimization-1.5.1 colorama-0.4.6\n",
            "Collecting scikit-optimize\n",
            "  Downloading scikit_optimize-0.10.2-py2.py3-none-any.whl.metadata (9.7 kB)\n",
            "Requirement already satisfied: joblib>=0.11 in /usr/local/lib/python3.10/dist-packages (from scikit-optimize) (1.4.2)\n",
            "Collecting pyaml>=16.9 (from scikit-optimize)\n",
            "  Downloading pyaml-24.7.0-py3-none-any.whl.metadata (11 kB)\n",
            "Requirement already satisfied: numpy>=1.20.3 in /usr/local/lib/python3.10/dist-packages (from scikit-optimize) (1.26.4)\n",
            "Requirement already satisfied: scipy>=1.1.0 in /usr/local/lib/python3.10/dist-packages (from scikit-optimize) (1.13.1)\n",
            "Requirement already satisfied: scikit-learn>=1.0.0 in /usr/local/lib/python3.10/dist-packages (from scikit-optimize) (1.3.2)\n",
            "Requirement already satisfied: packaging>=21.3 in /usr/local/lib/python3.10/dist-packages (from scikit-optimize) (24.1)\n",
            "Requirement already satisfied: PyYAML in /usr/local/lib/python3.10/dist-packages (from pyaml>=16.9->scikit-optimize) (6.0.2)\n",
            "Requirement already satisfied: threadpoolctl>=2.0.0 in /usr/local/lib/python3.10/dist-packages (from scikit-learn>=1.0.0->scikit-optimize) (3.5.0)\n",
            "Downloading scikit_optimize-0.10.2-py2.py3-none-any.whl (107 kB)\n",
            "\u001b[2K   \u001b[90m━━━━━━━━━━━━━━━━━━━━━━━━━━━━━━━━━━━━━━━━\u001b[0m \u001b[32m107.8/107.8 kB\u001b[0m \u001b[31m2.9 MB/s\u001b[0m eta \u001b[36m0:00:00\u001b[0m\n",
            "\u001b[?25hDownloading pyaml-24.7.0-py3-none-any.whl (24 kB)\n",
            "Installing collected packages: pyaml, scikit-optimize\n",
            "Successfully installed pyaml-24.7.0 scikit-optimize-0.10.2\n"
          ]
        }
      ],
      "source": [
        "!pip install bayesian-optimization\n",
        "!pip install scikit-optimize"
      ]
    },
    {
      "cell_type": "code",
      "execution_count": null,
      "metadata": {
        "id": "BlEVAmrxWJLH",
        "colab": {
          "base_uri": "https://localhost:8080/"
        },
        "outputId": "6fbf9fbc-a017-4b51-bf07-f33499e6aecd"
      },
      "outputs": [
        {
          "metadata": {
            "tags": null
          },
          "name": "stdout",
          "output_type": "stream",
          "text": [
            "|   iter    |  target   | colsam... |   gamma   | learni... | max_depth | min_ch... | n_esti... |\n",
            "-------------------------------------------------------------------------------------------------\n"
          ]
        },
        {
          "metadata": {
            "tags": null
          },
          "name": "stderr",
          "output_type": "stream",
          "text": [
            "/usr/local/lib/python3.10/dist-packages/xgboost/core.py:158: UserWarning: [15:38:17] WARNING: /workspace/src/learner.cc:740: \n",
            "Parameters: { \"verbose\" } are not used.\n",
            "\n",
            "  warnings.warn(smsg, UserWarning)\n"
          ]
        },
        {
          "metadata": {
            "tags": null
          },
          "name": "stdout",
          "output_type": "stream",
          "text": [
            "| \u001b[39m1        \u001b[39m | \u001b[39m0.8003   \u001b[39m | \u001b[39m0.4462   \u001b[39m | \u001b[39m3.602    \u001b[39m | \u001b[39m0.01011  \u001b[39m | \u001b[39m5.116    \u001b[39m | \u001b[39m8.191    \u001b[39m | \u001b[39m183.1    \u001b[39m |\n"
          ]
        },
        {
          "metadata": {
            "tags": null
          },
          "name": "stderr",
          "output_type": "stream",
          "text": [
            "/usr/local/lib/python3.10/dist-packages/xgboost/core.py:158: UserWarning: [15:39:15] WARNING: /workspace/src/learner.cc:740: \n",
            "Parameters: { \"verbose\" } are not used.\n",
            "\n",
            "  warnings.warn(smsg, UserWarning)\n"
          ]
        },
        {
          "metadata": {
            "tags": null
          },
          "name": "stdout",
          "output_type": "stream",
          "text": [
            "| \u001b[39m2        \u001b[39m | \u001b[39m0.7958   \u001b[39m | \u001b[39m0.2269   \u001b[39m | \u001b[39m1.728    \u001b[39m | \u001b[39m0.4028   \u001b[39m | \u001b[39m6.772    \u001b[39m | \u001b[39m21.54    \u001b[39m | \u001b[39m716.7    \u001b[39m |\n"
          ]
        },
        {
          "metadata": {
            "tags": null
          },
          "name": "stderr",
          "output_type": "stream",
          "text": [
            "/usr/local/lib/python3.10/dist-packages/xgboost/core.py:158: UserWarning: [15:40:56] WARNING: /workspace/src/learner.cc:740: \n",
            "Parameters: { \"verbose\" } are not used.\n",
            "\n",
            "  warnings.warn(smsg, UserWarning)\n"
          ]
        },
        {
          "metadata": {
            "tags": null
          },
          "name": "stdout",
          "output_type": "stream",
          "text": [
            "| \u001b[35m3        \u001b[39m | \u001b[35m0.8169   \u001b[39m | \u001b[35m0.2442   \u001b[39m | \u001b[35m4.391    \u001b[39m | \u001b[35m0.03711  \u001b[39m | \u001b[35m7.693    \u001b[39m | \u001b[35m21.45    \u001b[39m | \u001b[35m602.8    \u001b[39m |\n"
          ]
        },
        {
          "metadata": {
            "tags": null
          },
          "name": "stderr",
          "output_type": "stream",
          "text": [
            "/usr/local/lib/python3.10/dist-packages/xgboost/core.py:158: UserWarning: [15:43:05] WARNING: /workspace/src/learner.cc:740: \n",
            "Parameters: { \"verbose\" } are not used.\n",
            "\n",
            "  warnings.warn(smsg, UserWarning)\n"
          ]
        },
        {
          "metadata": {
            "tags": null
          },
          "name": "stdout",
          "output_type": "stream",
          "text": [
            "| \u001b[39m4        \u001b[39m | \u001b[39m0.7295   \u001b[39m | \u001b[39m0.1834   \u001b[39m | \u001b[39m0.9905   \u001b[39m | \u001b[39m0.8027   \u001b[39m | \u001b[39m9.778    \u001b[39m | \u001b[39m16.36    \u001b[39m | \u001b[39m723.1    \u001b[39m |\n"
          ]
        },
        {
          "metadata": {
            "tags": null
          },
          "name": "stderr",
          "output_type": "stream",
          "text": [
            "/usr/local/lib/python3.10/dist-packages/xgboost/core.py:158: UserWarning: [15:45:09] WARNING: /workspace/src/learner.cc:740: \n",
            "Parameters: { \"verbose\" } are not used.\n",
            "\n",
            "  warnings.warn(smsg, UserWarning)\n"
          ]
        },
        {
          "metadata": {
            "tags": null
          },
          "name": "stdout",
          "output_type": "stream",
          "text": [
            "| \u001b[39m5        \u001b[39m | \u001b[39m0.813    \u001b[39m | \u001b[39m0.8826   \u001b[39m | \u001b[39m4.473    \u001b[39m | \u001b[39m0.09419  \u001b[39m | \u001b[39m3.273    \u001b[39m | \u001b[39m9.322    \u001b[39m | \u001b[39m890.3    \u001b[39m |\n"
          ]
        },
        {
          "metadata": {
            "tags": null
          },
          "name": "stderr",
          "output_type": "stream",
          "text": [
            "/usr/local/lib/python3.10/dist-packages/xgboost/core.py:158: UserWarning: [15:47:07] WARNING: /workspace/src/learner.cc:740: \n",
            "Parameters: { \"verbose\" } are not used.\n",
            "\n",
            "  warnings.warn(smsg, UserWarning)\n"
          ]
        },
        {
          "metadata": {
            "tags": null
          },
          "name": "stdout",
          "output_type": "stream",
          "text": [
            "| \u001b[39m6        \u001b[39m | \u001b[39m0.7353   \u001b[39m | \u001b[39m0.1434   \u001b[39m | \u001b[39m2.106    \u001b[39m | \u001b[39m0.9583   \u001b[39m | \u001b[39m6.732    \u001b[39m | \u001b[39m34.9     \u001b[39m | \u001b[39m384.0    \u001b[39m |\n"
          ]
        },
        {
          "metadata": {
            "tags": null
          },
          "name": "stderr",
          "output_type": "stream",
          "text": [
            "/usr/local/lib/python3.10/dist-packages/xgboost/core.py:158: UserWarning: [15:48:34] WARNING: /workspace/src/learner.cc:740: \n",
            "Parameters: { \"verbose\" } are not used.\n",
            "\n",
            "  warnings.warn(smsg, UserWarning)\n"
          ]
        },
        {
          "metadata": {
            "tags": null
          },
          "name": "stdout",
          "output_type": "stream",
          "text": [
            "| \u001b[35m7        \u001b[39m | \u001b[35m0.8176   \u001b[39m | \u001b[35m0.7022   \u001b[39m | \u001b[35m4.173    \u001b[39m | \u001b[35m0.02811  \u001b[39m | \u001b[35m8.251    \u001b[39m | \u001b[35m49.45    \u001b[39m | \u001b[35m773.3    \u001b[39m |\n"
          ]
        },
        {
          "metadata": {
            "tags": null
          },
          "name": "stderr",
          "output_type": "stream",
          "text": [
            "/usr/local/lib/python3.10/dist-packages/xgboost/core.py:158: UserWarning: [15:51:19] WARNING: /workspace/src/learner.cc:740: \n",
            "Parameters: { \"verbose\" } are not used.\n",
            "\n",
            "  warnings.warn(smsg, UserWarning)\n"
          ]
        },
        {
          "metadata": {
            "tags": null
          },
          "name": "stdout",
          "output_type": "stream",
          "text": [
            "| \u001b[39m8        \u001b[39m | \u001b[39m0.8156   \u001b[39m | \u001b[39m0.3164   \u001b[39m | \u001b[39m3.946    \u001b[39m | \u001b[39m0.1122   \u001b[39m | \u001b[39m6.135    \u001b[39m | \u001b[39m45.52    \u001b[39m | \u001b[39m364.3    \u001b[39m |\n"
          ]
        },
        {
          "metadata": {
            "tags": null
          },
          "name": "stderr",
          "output_type": "stream",
          "text": [
            "/usr/local/lib/python3.10/dist-packages/xgboost/core.py:158: UserWarning: [15:52:23] WARNING: /workspace/src/learner.cc:740: \n",
            "Parameters: { \"verbose\" } are not used.\n",
            "\n",
            "  warnings.warn(smsg, UserWarning)\n"
          ]
        },
        {
          "metadata": {
            "tags": null
          },
          "name": "stdout",
          "output_type": "stream",
          "text": [
            "| \u001b[35m9        \u001b[39m | \u001b[35m0.8185   \u001b[39m | \u001b[35m0.3234   \u001b[39m | \u001b[35m0.6501   \u001b[39m | \u001b[35m0.02917  \u001b[39m | \u001b[35m7.752    \u001b[39m | \u001b[35m11.37    \u001b[39m | \u001b[35m339.0    \u001b[39m |\n"
          ]
        },
        {
          "metadata": {
            "tags": null
          },
          "name": "stderr",
          "output_type": "stream",
          "text": [
            "/usr/local/lib/python3.10/dist-packages/xgboost/core.py:158: UserWarning: [15:54:21] WARNING: /workspace/src/learner.cc:740: \n",
            "Parameters: { \"verbose\" } are not used.\n",
            "\n",
            "  warnings.warn(smsg, UserWarning)\n"
          ]
        },
        {
          "metadata": {
            "tags": null
          },
          "name": "stdout",
          "output_type": "stream",
          "text": [
            "| \u001b[39m10       \u001b[39m | \u001b[39m0.7624   \u001b[39m | \u001b[39m0.517    \u001b[39m | \u001b[39m0.2668   \u001b[39m | \u001b[39m0.5784   \u001b[39m | \u001b[39m4.027    \u001b[39m | \u001b[39m29.88    \u001b[39m | \u001b[39m729.8    \u001b[39m |\n"
          ]
        },
        {
          "metadata": {
            "tags": null
          },
          "name": "stderr",
          "output_type": "stream",
          "text": [
            "/usr/local/lib/python3.10/dist-packages/xgboost/core.py:158: UserWarning: [15:56:32] WARNING: /workspace/src/learner.cc:740: \n",
            "Parameters: { \"verbose\" } are not used.\n",
            "\n",
            "  warnings.warn(smsg, UserWarning)\n"
          ]
        },
        {
          "metadata": {
            "tags": null
          },
          "name": "stdout",
          "output_type": "stream",
          "text": [
            "| \u001b[39m11       \u001b[39m | \u001b[39m0.7645   \u001b[39m | \u001b[39m0.1472   \u001b[39m | \u001b[39m2.07     \u001b[39m | \u001b[39m0.6975   \u001b[39m | \u001b[39m5.899    \u001b[39m | \u001b[39m3.448    \u001b[39m | \u001b[39m582.3    \u001b[39m |\n"
          ]
        },
        {
          "metadata": {
            "tags": null
          },
          "name": "stderr",
          "output_type": "stream",
          "text": [
            "/usr/local/lib/python3.10/dist-packages/xgboost/core.py:158: UserWarning: [15:58:04] WARNING: /workspace/src/learner.cc:740: \n",
            "Parameters: { \"verbose\" } are not used.\n",
            "\n",
            "  warnings.warn(smsg, UserWarning)\n"
          ]
        },
        {
          "metadata": {
            "tags": null
          },
          "name": "stdout",
          "output_type": "stream",
          "text": [
            "| \u001b[39m12       \u001b[39m | \u001b[39m0.7432   \u001b[39m | \u001b[39m0.6806   \u001b[39m | \u001b[39m2.574    \u001b[39m | \u001b[39m0.9451   \u001b[39m | \u001b[39m7.106    \u001b[39m | \u001b[39m45.27    \u001b[39m | \u001b[39m223.7    \u001b[39m |\n"
          ]
        },
        {
          "metadata": {
            "tags": null
          },
          "name": "stderr",
          "output_type": "stream",
          "text": [
            "/usr/local/lib/python3.10/dist-packages/xgboost/core.py:158: UserWarning: [15:59:01] WARNING: /workspace/src/learner.cc:740: \n",
            "Parameters: { \"verbose\" } are not used.\n",
            "\n",
            "  warnings.warn(smsg, UserWarning)\n"
          ]
        },
        {
          "metadata": {
            "tags": null
          },
          "name": "stdout",
          "output_type": "stream",
          "text": [
            "| \u001b[39m13       \u001b[39m | \u001b[39m0.8076   \u001b[39m | \u001b[39m0.1823   \u001b[39m | \u001b[39m4.037    \u001b[39m | \u001b[39m0.4037   \u001b[39m | \u001b[39m4.157    \u001b[39m | \u001b[39m46.45    \u001b[39m | \u001b[39m413.0    \u001b[39m |\n"
          ]
        },
        {
          "metadata": {
            "tags": null
          },
          "name": "stderr",
          "output_type": "stream",
          "text": [
            "/usr/local/lib/python3.10/dist-packages/xgboost/core.py:158: UserWarning: [16:00:00] WARNING: /workspace/src/learner.cc:740: \n",
            "Parameters: { \"verbose\" } are not used.\n",
            "\n",
            "  warnings.warn(smsg, UserWarning)\n"
          ]
        },
        {
          "metadata": {
            "tags": null
          },
          "name": "stdout",
          "output_type": "stream",
          "text": [
            "| \u001b[39m14       \u001b[39m | \u001b[39m0.764    \u001b[39m | \u001b[39m0.7633   \u001b[39m | \u001b[39m3.63     \u001b[39m | \u001b[39m0.8845   \u001b[39m | \u001b[39m7.366    \u001b[39m | \u001b[39m37.8     \u001b[39m | \u001b[39m414.0    \u001b[39m |\n"
          ]
        },
        {
          "metadata": {
            "tags": null
          },
          "name": "stderr",
          "output_type": "stream",
          "text": [
            "/usr/local/lib/python3.10/dist-packages/xgboost/core.py:158: UserWarning: [16:01:03] WARNING: /workspace/src/learner.cc:740: \n",
            "Parameters: { \"verbose\" } are not used.\n",
            "\n",
            "  warnings.warn(smsg, UserWarning)\n"
          ]
        },
        {
          "metadata": {
            "tags": null
          },
          "name": "stdout",
          "output_type": "stream",
          "text": [
            "| \u001b[39m15       \u001b[39m | \u001b[39m0.7988   \u001b[39m | \u001b[39m0.3064   \u001b[39m | \u001b[39m4.479    \u001b[39m | \u001b[39m0.4338   \u001b[39m | \u001b[39m9.754    \u001b[39m | \u001b[39m33.51    \u001b[39m | \u001b[39m659.5    \u001b[39m |\n"
          ]
        },
        {
          "metadata": {
            "tags": null
          },
          "name": "stderr",
          "output_type": "stream",
          "text": [
            "/usr/local/lib/python3.10/dist-packages/xgboost/core.py:158: UserWarning: [16:02:32] WARNING: /workspace/src/learner.cc:740: \n",
            "Parameters: { \"verbose\" } are not used.\n",
            "\n",
            "  warnings.warn(smsg, UserWarning)\n"
          ]
        },
        {
          "metadata": {
            "tags": null
          },
          "name": "stdout",
          "output_type": "stream",
          "text": [
            "| \u001b[39m16       \u001b[39m | \u001b[39m0.8098   \u001b[39m | \u001b[39m0.4015   \u001b[39m | \u001b[39m0.7261   \u001b[39m | \u001b[39m0.1071   \u001b[39m | \u001b[39m7.828    \u001b[39m | \u001b[39m11.45    \u001b[39m | \u001b[39m339.1    \u001b[39m |\n"
          ]
        },
        {
          "metadata": {
            "tags": null
          },
          "name": "stderr",
          "output_type": "stream",
          "text": [
            "/usr/local/lib/python3.10/dist-packages/xgboost/core.py:158: UserWarning: [16:04:07] WARNING: /workspace/src/learner.cc:740: \n",
            "Parameters: { \"verbose\" } are not used.\n",
            "\n",
            "  warnings.warn(smsg, UserWarning)\n"
          ]
        },
        {
          "metadata": {
            "tags": null
          },
          "name": "stdout",
          "output_type": "stream",
          "text": [
            "| \u001b[39m17       \u001b[39m | \u001b[39m0.7965   \u001b[39m | \u001b[39m0.05     \u001b[39m | \u001b[39m0.1352   \u001b[39m | \u001b[39m0.01     \u001b[39m | \u001b[39m7.237    \u001b[39m | \u001b[39m10.86    \u001b[39m | \u001b[39m338.5    \u001b[39m |\n"
          ]
        },
        {
          "metadata": {
            "tags": null
          },
          "name": "stderr",
          "output_type": "stream",
          "text": [
            "/usr/local/lib/python3.10/dist-packages/xgboost/core.py:158: UserWarning: [16:06:07] WARNING: /workspace/src/learner.cc:740: \n",
            "Parameters: { \"verbose\" } are not used.\n",
            "\n",
            "  warnings.warn(smsg, UserWarning)\n"
          ]
        },
        {
          "metadata": {
            "tags": null
          },
          "name": "stdout",
          "output_type": "stream",
          "text": [
            "| \u001b[39m18       \u001b[39m | \u001b[39m0.7965   \u001b[39m | \u001b[39m0.05     \u001b[39m | \u001b[39m1.196    \u001b[39m | \u001b[39m0.01     \u001b[39m | \u001b[39m7.933    \u001b[39m | \u001b[39m10.82    \u001b[39m | \u001b[39m338.5    \u001b[39m |\n"
          ]
        },
        {
          "metadata": {
            "tags": null
          },
          "name": "stderr",
          "output_type": "stream",
          "text": [
            "/usr/local/lib/python3.10/dist-packages/xgboost/core.py:158: UserWarning: [16:08:11] WARNING: /workspace/src/learner.cc:740: \n",
            "Parameters: { \"verbose\" } are not used.\n",
            "\n",
            "  warnings.warn(smsg, UserWarning)\n"
          ]
        },
        {
          "metadata": {
            "tags": null
          },
          "name": "stdout",
          "output_type": "stream",
          "text": [
            "| \u001b[39m19       \u001b[39m | \u001b[39m0.7957   \u001b[39m | \u001b[39m0.05     \u001b[39m | \u001b[39m0.5385   \u001b[39m | \u001b[39m0.01     \u001b[39m | \u001b[39m6.906    \u001b[39m | \u001b[39m11.72    \u001b[39m | \u001b[39m339.3    \u001b[39m |\n"
          ]
        },
        {
          "metadata": {
            "tags": null
          },
          "name": "stderr",
          "output_type": "stream",
          "text": [
            "/usr/local/lib/python3.10/dist-packages/xgboost/core.py:158: UserWarning: [16:10:01] WARNING: /workspace/src/learner.cc:740: \n",
            "Parameters: { \"verbose\" } are not used.\n",
            "\n",
            "  warnings.warn(smsg, UserWarning)\n"
          ]
        },
        {
          "metadata": {
            "tags": null
          },
          "name": "stdout",
          "output_type": "stream",
          "text": [
            "| \u001b[39m20       \u001b[39m | \u001b[39m0.7972   \u001b[39m | \u001b[39m0.05     \u001b[39m | \u001b[39m0.0      \u001b[39m | \u001b[39m0.01     \u001b[39m | \u001b[39m8.224    \u001b[39m | \u001b[39m11.63    \u001b[39m | \u001b[39m338.6    \u001b[39m |\n"
          ]
        },
        {
          "metadata": {
            "tags": null
          },
          "name": "stderr",
          "output_type": "stream",
          "text": [
            "/usr/local/lib/python3.10/dist-packages/xgboost/core.py:158: UserWarning: [16:12:19] WARNING: /workspace/src/learner.cc:740: \n",
            "Parameters: { \"verbose\" } are not used.\n",
            "\n",
            "  warnings.warn(smsg, UserWarning)\n"
          ]
        },
        {
          "metadata": {
            "tags": null
          },
          "name": "stdout",
          "output_type": "stream",
          "text": [
            "| \u001b[39m21       \u001b[39m | \u001b[39m0.7966   \u001b[39m | \u001b[39m0.05     \u001b[39m | \u001b[39m0.2939   \u001b[39m | \u001b[39m0.01     \u001b[39m | \u001b[39m7.831    \u001b[39m | \u001b[39m10.7     \u001b[39m | \u001b[39m339.6    \u001b[39m |\n"
          ]
        },
        {
          "metadata": {
            "tags": null
          },
          "name": "stderr",
          "output_type": "stream",
          "text": [
            "/usr/local/lib/python3.10/dist-packages/xgboost/core.py:158: UserWarning: [16:14:20] WARNING: /workspace/src/learner.cc:740: \n",
            "Parameters: { \"verbose\" } are not used.\n",
            "\n",
            "  warnings.warn(smsg, UserWarning)\n"
          ]
        },
        {
          "metadata": {
            "tags": null
          },
          "name": "stdout",
          "output_type": "stream",
          "text": [
            "| \u001b[39m22       \u001b[39m | \u001b[39m0.8123   \u001b[39m | \u001b[39m0.4927   \u001b[39m | \u001b[39m4.128    \u001b[39m | \u001b[39m0.1865   \u001b[39m | \u001b[39m7.009    \u001b[39m | \u001b[39m46.13    \u001b[39m | \u001b[39m364.2    \u001b[39m |\n"
          ]
        },
        {
          "metadata": {
            "tags": null
          },
          "name": "stderr",
          "output_type": "stream",
          "text": [
            "/usr/local/lib/python3.10/dist-packages/xgboost/core.py:158: UserWarning: [16:15:19] WARNING: /workspace/src/learner.cc:740: \n",
            "Parameters: { \"verbose\" } are not used.\n",
            "\n",
            "  warnings.warn(smsg, UserWarning)\n"
          ]
        },
        {
          "metadata": {
            "tags": null
          },
          "name": "stdout",
          "output_type": "stream",
          "text": [
            "| \u001b[39m23       \u001b[39m | \u001b[39m0.8037   \u001b[39m | \u001b[39m0.4895   \u001b[39m | \u001b[39m3.643    \u001b[39m | \u001b[39m0.476    \u001b[39m | \u001b[39m6.055    \u001b[39m | \u001b[39m46.49    \u001b[39m | \u001b[39m364.7    \u001b[39m |\n"
          ]
        },
        {
          "metadata": {
            "tags": null
          },
          "name": "stderr",
          "output_type": "stream",
          "text": [
            "/usr/local/lib/python3.10/dist-packages/xgboost/core.py:158: UserWarning: [16:16:14] WARNING: /workspace/src/learner.cc:740: \n",
            "Parameters: { \"verbose\" } are not used.\n",
            "\n",
            "  warnings.warn(smsg, UserWarning)\n"
          ]
        },
        {
          "metadata": {
            "tags": null
          },
          "name": "stdout",
          "output_type": "stream",
          "text": [
            "| \u001b[39m24       \u001b[39m | \u001b[39m0.8038   \u001b[39m | \u001b[39m0.07989  \u001b[39m | \u001b[39m4.997    \u001b[39m | \u001b[39m0.01     \u001b[39m | \u001b[39m6.324    \u001b[39m | \u001b[39m45.86    \u001b[39m | \u001b[39m364.7    \u001b[39m |\n"
          ]
        },
        {
          "metadata": {
            "tags": null
          },
          "name": "stderr",
          "output_type": "stream",
          "text": [
            "/usr/local/lib/python3.10/dist-packages/xgboost/core.py:158: UserWarning: [16:18:14] WARNING: /workspace/src/learner.cc:740: \n",
            "Parameters: { \"verbose\" } are not used.\n",
            "\n",
            "  warnings.warn(smsg, UserWarning)\n"
          ]
        },
        {
          "metadata": {
            "tags": null
          },
          "name": "stdout",
          "output_type": "stream",
          "text": [
            "| \u001b[39m25       \u001b[39m | \u001b[39m0.7914   \u001b[39m | \u001b[39m0.6025   \u001b[39m | \u001b[39m4.149    \u001b[39m | \u001b[39m0.5719   \u001b[39m | \u001b[39m7.52     \u001b[39m | \u001b[39m21.83    \u001b[39m | \u001b[39m603.7    \u001b[39m |\n"
          ]
        },
        {
          "metadata": {
            "tags": null
          },
          "name": "stderr",
          "output_type": "stream",
          "text": [
            "/usr/local/lib/python3.10/dist-packages/xgboost/core.py:158: UserWarning: [16:19:34] WARNING: /workspace/src/learner.cc:740: \n",
            "Parameters: { \"verbose\" } are not used.\n",
            "\n",
            "  warnings.warn(smsg, UserWarning)\n"
          ]
        },
        {
          "metadata": {
            "tags": null
          },
          "name": "stdout",
          "output_type": "stream",
          "text": [
            "| \u001b[39m26       \u001b[39m | \u001b[39m0.7887   \u001b[39m | \u001b[39m0.5761   \u001b[39m | \u001b[39m3.723    \u001b[39m | \u001b[39m0.7486   \u001b[39m | \u001b[39m5.318    \u001b[39m | \u001b[39m46.87    \u001b[39m | \u001b[39m413.4    \u001b[39m |\n"
          ]
        },
        {
          "metadata": {
            "tags": null
          },
          "name": "stderr",
          "output_type": "stream",
          "text": [
            "/usr/local/lib/python3.10/dist-packages/xgboost/core.py:158: UserWarning: [16:20:30] WARNING: /workspace/src/learner.cc:740: \n",
            "Parameters: { \"verbose\" } are not used.\n",
            "\n",
            "  warnings.warn(smsg, UserWarning)\n"
          ]
        },
        {
          "output_type": "stream",
          "name": "stdout",
          "text": [
            "| \u001b[39m27       \u001b[39m | \u001b[39m0.8182   \u001b[39m | \u001b[39m0.4492   \u001b[39m | \u001b[39m3.849    \u001b[39m | \u001b[39m0.07043  \u001b[39m | \u001b[39m8.694    \u001b[39m | \u001b[39m48.67    \u001b[39m | \u001b[39m772.8    \u001b[39m |\n"
          ]
        },
        {
          "output_type": "stream",
          "name": "stderr",
          "text": [
            "/usr/local/lib/python3.10/dist-packages/xgboost/core.py:158: UserWarning: [16:22:34] WARNING: /workspace/src/learner.cc:740: \n",
            "Parameters: { \"verbose\" } are not used.\n",
            "\n",
            "  warnings.warn(smsg, UserWarning)\n"
          ]
        },
        {
          "output_type": "stream",
          "name": "stdout",
          "text": [
            "| \u001b[39m28       \u001b[39m | \u001b[39m0.7817   \u001b[39m | \u001b[39m0.4945   \u001b[39m | \u001b[39m3.897    \u001b[39m | \u001b[39m0.7585   \u001b[39m | \u001b[39m6.953    \u001b[39m | \u001b[39m45.07    \u001b[39m | \u001b[39m364.8    \u001b[39m |\n"
          ]
        },
        {
          "output_type": "stream",
          "name": "stderr",
          "text": [
            "/usr/local/lib/python3.10/dist-packages/xgboost/core.py:158: UserWarning: [16:23:30] WARNING: /workspace/src/learner.cc:740: \n",
            "Parameters: { \"verbose\" } are not used.\n",
            "\n",
            "  warnings.warn(smsg, UserWarning)\n"
          ]
        },
        {
          "output_type": "stream",
          "name": "stdout",
          "text": [
            "| \u001b[39m29       \u001b[39m | \u001b[39m0.8177   \u001b[39m | \u001b[39m0.8914   \u001b[39m | \u001b[39m4.803    \u001b[39m | \u001b[39m0.01258  \u001b[39m | \u001b[39m8.306    \u001b[39m | \u001b[39m48.72    \u001b[39m | \u001b[39m772.8    \u001b[39m |\n"
          ]
        },
        {
          "output_type": "stream",
          "name": "stderr",
          "text": [
            "/usr/local/lib/python3.10/dist-packages/xgboost/core.py:158: UserWarning: [16:27:49] WARNING: /workspace/src/learner.cc:740: \n",
            "Parameters: { \"verbose\" } are not used.\n",
            "\n",
            "  warnings.warn(smsg, UserWarning)\n"
          ]
        },
        {
          "output_type": "stream",
          "name": "stdout",
          "text": [
            "| \u001b[39m30       \u001b[39m | \u001b[39m0.7946   \u001b[39m | \u001b[39m0.2641   \u001b[39m | \u001b[39m4.187    \u001b[39m | \u001b[39m0.5809   \u001b[39m | \u001b[39m7.696    \u001b[39m | \u001b[39m48.87    \u001b[39m | \u001b[39m772.8    \u001b[39m |\n",
            "=================================================================================================\n"
          ]
        }
      ],
      "source": [
        "from bayes_opt import BayesianOptimization\n",
        "import xgboost as xgb\n",
        "from sklearn import metrics\n",
        "\n",
        "# Função para ajuste do modelo com parâmetros específicos\n",
        "def modelFitter(learning_rate, n_estimators, max_depth, colsample_bytree, min_child_weight, gamma):\n",
        "    # Defina os parâmetros do modelo XGBoost com os valores fornecidos pelo otimizador\n",
        "    params = {\n",
        "        \"objective\": \"binary:logistic\",\n",
        "        \"eval_metric\": \"auc\",\n",
        "        \"learning_rate\": learning_rate,\n",
        "        \"n_estimators\": int(n_estimators),\n",
        "        \"max_depth\": int(max_depth),\n",
        "        \"colsample_bytree\": colsample_bytree,\n",
        "        \"min_child_weight\": int(min_child_weight),\n",
        "        \"gamma\": gamma,\n",
        "        \"verbose\": -1\n",
        "    }\n",
        "\n",
        "    # Inicializa o classificador XGBoost com os parâmetros\n",
        "    class_xgb = xgb.XGBClassifier(**params,enable_categorical=True)\n",
        "    class_xgb.fit(X_treino, Y_treino)\n",
        "\n",
        "    # Faz previsões no conjunto de validação\n",
        "    predicoes = class_xgb.predict_proba(X_valid)[:, 1]\n",
        "\n",
        "    # Calcula o AUC\n",
        "    auc = metrics.roc_auc_score(Y_valid, predicoes)\n",
        "    return auc\n",
        "\n",
        "# Define os limites dos hiperparâmetros para a otimização bayesiana\n",
        "params = {\n",
        "    \"learning_rate\": (0.01, 1.0),\n",
        "    \"n_estimators\": (100, 1000),\n",
        "    \"max_depth\": (3, 10),\n",
        "    \"colsample_bytree\": (0.05, 1.0),\n",
        "    \"min_child_weight\": (1, 50),\n",
        "    \"gamma\": (0, 5)\n",
        "}\n",
        "\n",
        "# Inicializa a otimização bayesiana\n",
        "optimizer = BayesianOptimization(\n",
        "    f=modelFitter,\n",
        "    pbounds=params,\n",
        "    random_state=1\n",
        ")\n",
        "\n",
        "# Executa a otimização\n",
        "optimizer.maximize(init_points=15, n_iter=15)\n"
      ]
    },
    {
      "cell_type": "code",
      "source": [
        "# Best parameters and AUC score\n",
        "print(optimizer.max)"
      ],
      "metadata": {
        "colab": {
          "base_uri": "https://localhost:8080/"
        },
        "id": "yYaI4Ppy29H0",
        "outputId": "dabdf1c2-cb22-4110-9048-4ae5b1a6dbdc"
      },
      "execution_count": null,
      "outputs": [
        {
          "output_type": "stream",
          "name": "stdout",
          "text": [
            "{'target': 0.8185400966096508, 'params': {'colsample_bytree': 0.3233865716570313, 'gamma': 0.6501428605913884, 'learning_rate': 0.0291732882915941, 'max_depth': 7.751848730579237, 'min_child_weight': 11.369777684002893, 'n_estimators': 338.99199343500356}}\n"
          ]
        }
      ]
    },
    {
      "cell_type": "code",
      "source": [
        "optimizer.max['params']"
      ],
      "metadata": {
        "colab": {
          "base_uri": "https://localhost:8080/"
        },
        "id": "Fys7KteD3hwh",
        "outputId": "afd330f6-f9f1-45be-ac8f-501539baa7bc"
      },
      "execution_count": null,
      "outputs": [
        {
          "output_type": "execute_result",
          "data": {
            "text/plain": [
              "{'colsample_bytree': 0.3233865716570313,\n",
              " 'gamma': 0.6501428605913884,\n",
              " 'learning_rate': 0.0291732882915941,\n",
              " 'max_depth': 7.751848730579237,\n",
              " 'min_child_weight': 11.369777684002893,\n",
              " 'n_estimators': 338.99199343500356}"
            ]
          },
          "metadata": {},
          "execution_count": 30
        }
      ]
    },
    {
      "cell_type": "code",
      "source": [
        "Algortimo Genético"
      ],
      "metadata": {
        "id": "MtvBbNGRLwpU"
      },
      "execution_count": null,
      "outputs": []
    },
    {
      "cell_type": "markdown",
      "source": [
        "Modelagem"
      ],
      "metadata": {
        "id": "WuoFHvB5LusG"
      }
    },
    {
      "cell_type": "code",
      "execution_count": null,
      "metadata": {
        "colab": {
          "base_uri": "https://localhost:8080/",
          "height": 252
        },
        "id": "_EcZYsr4QLmX",
        "outputId": "b245e31c-c8cf-48cf-fa93-f9779646994e"
      },
      "outputs": [
        {
          "output_type": "execute_result",
          "data": {
            "text/plain": [
              "XGBClassifier(base_score=None, booster=None, callbacks=None,\n",
              "              colsample_bylevel=None, colsample_bynode=None,\n",
              "              colsample_bytree=0.3233865716570313, device=None,\n",
              "              early_stopping_rounds=None, enable_categorical=True,\n",
              "              eval_metric=None, feature_types=None, gamma=0.6501428605913884,\n",
              "              grow_policy=None, importance_type=None,\n",
              "              interaction_constraints=None, learning_rate=0.0291732882915941,\n",
              "              max_bin=None, max_cat_threshold=None, max_cat_to_onehot=None,\n",
              "              max_delta_step=None, max_depth=78, max_leaves=None,\n",
              "              min_child_weight=11.369777684002893, missing=nan,\n",
              "              monotone_constraints=None, multi_strategy=None, n_estimators=339,\n",
              "              n_jobs=None, num_parallel_tree=None, random_state=None, ...)"
            ],
            "text/html": [
              "<style>#sk-container-id-2 {color: black;}#sk-container-id-2 pre{padding: 0;}#sk-container-id-2 div.sk-toggleable {background-color: white;}#sk-container-id-2 label.sk-toggleable__label {cursor: pointer;display: block;width: 100%;margin-bottom: 0;padding: 0.3em;box-sizing: border-box;text-align: center;}#sk-container-id-2 label.sk-toggleable__label-arrow:before {content: \"▸\";float: left;margin-right: 0.25em;color: #696969;}#sk-container-id-2 label.sk-toggleable__label-arrow:hover:before {color: black;}#sk-container-id-2 div.sk-estimator:hover label.sk-toggleable__label-arrow:before {color: black;}#sk-container-id-2 div.sk-toggleable__content {max-height: 0;max-width: 0;overflow: hidden;text-align: left;background-color: #f0f8ff;}#sk-container-id-2 div.sk-toggleable__content pre {margin: 0.2em;color: black;border-radius: 0.25em;background-color: #f0f8ff;}#sk-container-id-2 input.sk-toggleable__control:checked~div.sk-toggleable__content {max-height: 200px;max-width: 100%;overflow: auto;}#sk-container-id-2 input.sk-toggleable__control:checked~label.sk-toggleable__label-arrow:before {content: \"▾\";}#sk-container-id-2 div.sk-estimator input.sk-toggleable__control:checked~label.sk-toggleable__label {background-color: #d4ebff;}#sk-container-id-2 div.sk-label input.sk-toggleable__control:checked~label.sk-toggleable__label {background-color: #d4ebff;}#sk-container-id-2 input.sk-hidden--visually {border: 0;clip: rect(1px 1px 1px 1px);clip: rect(1px, 1px, 1px, 1px);height: 1px;margin: -1px;overflow: hidden;padding: 0;position: absolute;width: 1px;}#sk-container-id-2 div.sk-estimator {font-family: monospace;background-color: #f0f8ff;border: 1px dotted black;border-radius: 0.25em;box-sizing: border-box;margin-bottom: 0.5em;}#sk-container-id-2 div.sk-estimator:hover {background-color: #d4ebff;}#sk-container-id-2 div.sk-parallel-item::after {content: \"\";width: 100%;border-bottom: 1px solid gray;flex-grow: 1;}#sk-container-id-2 div.sk-label:hover label.sk-toggleable__label {background-color: #d4ebff;}#sk-container-id-2 div.sk-serial::before {content: \"\";position: absolute;border-left: 1px solid gray;box-sizing: border-box;top: 0;bottom: 0;left: 50%;z-index: 0;}#sk-container-id-2 div.sk-serial {display: flex;flex-direction: column;align-items: center;background-color: white;padding-right: 0.2em;padding-left: 0.2em;position: relative;}#sk-container-id-2 div.sk-item {position: relative;z-index: 1;}#sk-container-id-2 div.sk-parallel {display: flex;align-items: stretch;justify-content: center;background-color: white;position: relative;}#sk-container-id-2 div.sk-item::before, #sk-container-id-2 div.sk-parallel-item::before {content: \"\";position: absolute;border-left: 1px solid gray;box-sizing: border-box;top: 0;bottom: 0;left: 50%;z-index: -1;}#sk-container-id-2 div.sk-parallel-item {display: flex;flex-direction: column;z-index: 1;position: relative;background-color: white;}#sk-container-id-2 div.sk-parallel-item:first-child::after {align-self: flex-end;width: 50%;}#sk-container-id-2 div.sk-parallel-item:last-child::after {align-self: flex-start;width: 50%;}#sk-container-id-2 div.sk-parallel-item:only-child::after {width: 0;}#sk-container-id-2 div.sk-dashed-wrapped {border: 1px dashed gray;margin: 0 0.4em 0.5em 0.4em;box-sizing: border-box;padding-bottom: 0.4em;background-color: white;}#sk-container-id-2 div.sk-label label {font-family: monospace;font-weight: bold;display: inline-block;line-height: 1.2em;}#sk-container-id-2 div.sk-label-container {text-align: center;}#sk-container-id-2 div.sk-container {/* jupyter's `normalize.less` sets `[hidden] { display: none; }` but bootstrap.min.css set `[hidden] { display: none !important; }` so we also need the `!important` here to be able to override the default hidden behavior on the sphinx rendered scikit-learn.org. See: https://github.com/scikit-learn/scikit-learn/issues/21755 */display: inline-block !important;position: relative;}#sk-container-id-2 div.sk-text-repr-fallback {display: none;}</style><div id=\"sk-container-id-2\" class=\"sk-top-container\"><div class=\"sk-text-repr-fallback\"><pre>XGBClassifier(base_score=None, booster=None, callbacks=None,\n",
              "              colsample_bylevel=None, colsample_bynode=None,\n",
              "              colsample_bytree=0.3233865716570313, device=None,\n",
              "              early_stopping_rounds=None, enable_categorical=True,\n",
              "              eval_metric=None, feature_types=None, gamma=0.6501428605913884,\n",
              "              grow_policy=None, importance_type=None,\n",
              "              interaction_constraints=None, learning_rate=0.0291732882915941,\n",
              "              max_bin=None, max_cat_threshold=None, max_cat_to_onehot=None,\n",
              "              max_delta_step=None, max_depth=78, max_leaves=None,\n",
              "              min_child_weight=11.369777684002893, missing=nan,\n",
              "              monotone_constraints=None, multi_strategy=None, n_estimators=339,\n",
              "              n_jobs=None, num_parallel_tree=None, random_state=None, ...)</pre><b>In a Jupyter environment, please rerun this cell to show the HTML representation or trust the notebook. <br />On GitHub, the HTML representation is unable to render, please try loading this page with nbviewer.org.</b></div><div class=\"sk-container\" hidden><div class=\"sk-item\"><div class=\"sk-estimator sk-toggleable\"><input class=\"sk-toggleable__control sk-hidden--visually\" id=\"sk-estimator-id-2\" type=\"checkbox\" checked><label for=\"sk-estimator-id-2\" class=\"sk-toggleable__label sk-toggleable__label-arrow\">XGBClassifier</label><div class=\"sk-toggleable__content\"><pre>XGBClassifier(base_score=None, booster=None, callbacks=None,\n",
              "              colsample_bylevel=None, colsample_bynode=None,\n",
              "              colsample_bytree=0.3233865716570313, device=None,\n",
              "              early_stopping_rounds=None, enable_categorical=True,\n",
              "              eval_metric=None, feature_types=None, gamma=0.6501428605913884,\n",
              "              grow_policy=None, importance_type=None,\n",
              "              interaction_constraints=None, learning_rate=0.0291732882915941,\n",
              "              max_bin=None, max_cat_threshold=None, max_cat_to_onehot=None,\n",
              "              max_delta_step=None, max_depth=78, max_leaves=None,\n",
              "              min_child_weight=11.369777684002893, missing=nan,\n",
              "              monotone_constraints=None, multi_strategy=None, n_estimators=339,\n",
              "              n_jobs=None, num_parallel_tree=None, random_state=None, ...)</pre></div></div></div></div></div>"
            ]
          },
          "metadata": {},
          "execution_count": 44
        }
      ],
      "source": [
        "# from xgboost import XGBClassifier\n",
        "# class_xgb = XGBClassifier(learning_rate= 0.06426915014337858,\n",
        "#                                 colsample_bytree= 0.6421921100022127,\n",
        "#                                 max_depth= 14,\n",
        "#                                 n_estimators= 76,\n",
        "#                                enable_categorical=True)\n",
        "# class_xgb.fit(X_treino,Y_treino)\n",
        "from xgboost import XGBClassifier\n",
        "\n",
        "#study.best_params\n",
        "class_xgb = XGBClassifier(colsample_bytree= 0.3233865716570313,\n",
        "                           gamma= 0.6501428605913884,\n",
        "                           learning_rate= 0.0291732882915941,\n",
        "                           max_depth= 78,\n",
        "                           min_child_weight= 11.369777684002893,\n",
        "                           n_estimators= 339,\n",
        "                          enable_categorical=True)\n",
        "class_xgb.fit(X_treino,Y_treino)\n"
      ]
    },
    {
      "cell_type": "code",
      "execution_count": null,
      "metadata": {
        "colab": {
          "base_uri": "https://localhost:8080/"
        },
        "id": "hiwaFlReR462",
        "outputId": "40ed437d-f87e-4673-b048-828fbf24b59e"
      },
      "outputs": [
        {
          "output_type": "execute_result",
          "data": {
            "text/plain": [
              "array([0.99467176, 0.98638654, 0.9277757 , ..., 0.99470985, 0.9988888 ,\n",
              "       0.9973189 ], dtype=float32)"
            ]
          },
          "metadata": {},
          "execution_count": 45
        }
      ],
      "source": [
        "predicoes = class_xgb.predict_proba(X_teste)[:, 1]\n",
        "predicoes\n"
      ]
    },
    {
      "cell_type": "code",
      "execution_count": null,
      "metadata": {
        "colab": {
          "base_uri": "https://localhost:8080/"
        },
        "id": "7QWbJB4NRj6B",
        "outputId": "91082f03-2eca-46c0-d9ab-bf889ad8f101"
      },
      "outputs": [
        {
          "output_type": "execute_result",
          "data": {
            "text/plain": [
              "0.8108760701121677"
            ]
          },
          "metadata": {},
          "execution_count": 46
        }
      ],
      "source": [
        "auc = metrics.roc_auc_score(Y_teste, predicoes)\n",
        "auc #0.816247003340626"
      ]
    }
  ],
  "metadata": {
    "colab": {
      "provenance": []
    },
    "kernelspec": {
      "display_name": "Python 3",
      "name": "python3"
    },
    "language_info": {
      "name": "python"
    }
  },
  "nbformat": 4,
  "nbformat_minor": 0
}